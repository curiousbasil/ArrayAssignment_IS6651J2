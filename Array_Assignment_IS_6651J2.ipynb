{
  "nbformat": 4,
  "nbformat_minor": 0,
  "metadata": {
    "kernelspec": {
      "display_name": "Python 3",
      "language": "python",
      "name": "python3"
    },
    "language_info": {
      "codemirror_mode": {
        "name": "ipython",
        "version": 3
      },
      "file_extension": ".py",
      "mimetype": "text/x-python",
      "name": "python",
      "nbconvert_exporter": "python",
      "pygments_lexer": "ipython3",
      "version": "3.7.4"
    },
    "colab": {
      "name": "Array Assignment - IS 6651J2.ipynb",
      "provenance": [],
      "toc_visible": true,
      "include_colab_link": true
    }
  },
  "cells": [
    {
      "cell_type": "markdown",
      "metadata": {
        "id": "view-in-github",
        "colab_type": "text"
      },
      "source": [
        "<a href=\"https://colab.research.google.com/github/curiousbasil/ArrayAssignment_IS6651J2/blob/master/Array_Assignment_IS_6651J2.ipynb\" target=\"_parent\"><img src=\"https://colab.research.google.com/assets/colab-badge.svg\" alt=\"Open In Colab\"/></a>"
      ]
    },
    {
      "cell_type": "markdown",
      "metadata": {
        "id": "B2Mvd3Tm3xWP",
        "colab_type": "text"
      },
      "source": [
        "# NumPy Exercises - Faisal Sukkar\n"
      ]
    },
    {
      "cell_type": "code",
      "metadata": {
        "id": "hKnkjh_r31N6",
        "colab_type": "code",
        "colab": {
          "base_uri": "https://localhost:8080/",
          "height": 122
        },
        "outputId": "df3b7393-e43c-44ba-fadf-e2b1d09ffe80"
      },
      "source": [
        "from google.colab import drive\n",
        "drive.mount('/content/drive')"
      ],
      "execution_count": 1,
      "outputs": [
        {
          "output_type": "stream",
          "text": [
            "Go to this URL in a browser: https://accounts.google.com/o/oauth2/auth?client_id=947318989803-6bn6qk8qdgf4n4g3pfee6491hc0brc4i.apps.googleusercontent.com&redirect_uri=urn%3aietf%3awg%3aoauth%3a2.0%3aoob&response_type=code&scope=email%20https%3a%2f%2fwww.googleapis.com%2fauth%2fdocs.test%20https%3a%2f%2fwww.googleapis.com%2fauth%2fdrive%20https%3a%2f%2fwww.googleapis.com%2fauth%2fdrive.photos.readonly%20https%3a%2f%2fwww.googleapis.com%2fauth%2fpeopleapi.readonly\n",
            "\n",
            "Enter your authorization code:\n",
            "··········\n",
            "Mounted at /content/drive\n"
          ],
          "name": "stdout"
        }
      ]
    },
    {
      "cell_type": "markdown",
      "metadata": {
        "id": "23Wrsa-E3xWT",
        "colab_type": "text"
      },
      "source": [
        "## Defining an array\n"
      ]
    },
    {
      "cell_type": "markdown",
      "metadata": {
        "id": "g6qu1zWR3xWU",
        "colab_type": "text"
      },
      "source": [
        "#### Import NumPy as np"
      ]
    },
    {
      "cell_type": "code",
      "metadata": {
        "id": "BUuPWQu73xWW",
        "colab_type": "code",
        "colab": {}
      },
      "source": [
        "import numpy as np"
      ],
      "execution_count": 0,
      "outputs": []
    },
    {
      "cell_type": "markdown",
      "metadata": {
        "id": "Z0LZn55Q3xWc",
        "colab_type": "text"
      },
      "source": [
        "#### Create an array of 10 zeros "
      ]
    },
    {
      "cell_type": "code",
      "metadata": {
        "id": "pj94hSgh3xWd",
        "colab_type": "code",
        "colab": {},
        "outputId": "0bff4a86-953c-4577-d3d8-71bf9c207d08"
      },
      "source": [
        "np.array([0,0,0,0,0,0,0,0,0,0])"
      ],
      "execution_count": 0,
      "outputs": [
        {
          "output_type": "execute_result",
          "data": {
            "text/plain": [
              "array([0, 0, 0, 0, 0, 0, 0, 0, 0, 0])"
            ]
          },
          "metadata": {
            "tags": []
          },
          "execution_count": 108
        }
      ]
    },
    {
      "cell_type": "markdown",
      "metadata": {
        "id": "jhSHA85_3xWi",
        "colab_type": "text"
      },
      "source": [
        "#### Create an array of 10 ones"
      ]
    },
    {
      "cell_type": "code",
      "metadata": {
        "id": "S4hgzVls3xWj",
        "colab_type": "code",
        "colab": {},
        "outputId": "73cf1eaf-b2ed-4636-868e-fa8b72a6f018"
      },
      "source": [
        "np.array([1,1,1,1,1,1,1,1,1,1])"
      ],
      "execution_count": 0,
      "outputs": [
        {
          "output_type": "execute_result",
          "data": {
            "text/plain": [
              "array([1, 1, 1, 1, 1, 1, 1, 1, 1, 1])"
            ]
          },
          "metadata": {
            "tags": []
          },
          "execution_count": 17
        }
      ]
    },
    {
      "cell_type": "markdown",
      "metadata": {
        "id": "GrIZDypO3xWn",
        "colab_type": "text"
      },
      "source": [
        "#### Create an array of 10 tens"
      ]
    },
    {
      "cell_type": "code",
      "metadata": {
        "id": "3iCDg4h-3xWp",
        "colab_type": "code",
        "colab": {},
        "outputId": "55b65211-b362-4301-9393-175230259023"
      },
      "source": [
        "np.array([10,10,10,10,10,10,10,10,10,10])\n"
      ],
      "execution_count": 0,
      "outputs": [
        {
          "output_type": "execute_result",
          "data": {
            "text/plain": [
              "array([10, 10, 10, 10, 10, 10, 10, 10, 10, 10])"
            ]
          },
          "metadata": {
            "tags": []
          },
          "execution_count": 31
        }
      ]
    },
    {
      "cell_type": "markdown",
      "metadata": {
        "id": "GIikyMSK3xWt",
        "colab_type": "text"
      },
      "source": [
        "#### Create an array of the integers from 10 to 100"
      ]
    },
    {
      "cell_type": "code",
      "metadata": {
        "id": "SrSfBomp3xWu",
        "colab_type": "code",
        "colab": {},
        "outputId": "123f314d-c23d-4ecc-85aa-c942a654a6d0"
      },
      "source": [
        "np.arange(10, 101, 1)"
      ],
      "execution_count": 0,
      "outputs": [
        {
          "output_type": "execute_result",
          "data": {
            "text/plain": [
              "array([ 10,  11,  12,  13,  14,  15,  16,  17,  18,  19,  20,  21,  22,\n",
              "        23,  24,  25,  26,  27,  28,  29,  30,  31,  32,  33,  34,  35,\n",
              "        36,  37,  38,  39,  40,  41,  42,  43,  44,  45,  46,  47,  48,\n",
              "        49,  50,  51,  52,  53,  54,  55,  56,  57,  58,  59,  60,  61,\n",
              "        62,  63,  64,  65,  66,  67,  68,  69,  70,  71,  72,  73,  74,\n",
              "        75,  76,  77,  78,  79,  80,  81,  82,  83,  84,  85,  86,  87,\n",
              "        88,  89,  90,  91,  92,  93,  94,  95,  96,  97,  98,  99, 100])"
            ]
          },
          "metadata": {
            "tags": []
          },
          "execution_count": 14
        }
      ]
    },
    {
      "cell_type": "markdown",
      "metadata": {
        "id": "l_hcpDG_3xWz",
        "colab_type": "text"
      },
      "source": [
        "#### Create an array of all the odd integers from 10 to 30"
      ]
    },
    {
      "cell_type": "code",
      "metadata": {
        "id": "T4mgBioJ3xW0",
        "colab_type": "code",
        "colab": {},
        "outputId": "3c316a78-3f4f-4a82-f0ee-2ba604f5247b"
      },
      "source": [
        "np.arange(11, 30 , 2)"
      ],
      "execution_count": 0,
      "outputs": [
        {
          "output_type": "execute_result",
          "data": {
            "text/plain": [
              "array([11, 13, 15, 17, 19, 21, 23, 25, 27, 29])"
            ]
          },
          "metadata": {
            "tags": []
          },
          "execution_count": 16
        }
      ]
    },
    {
      "cell_type": "markdown",
      "metadata": {
        "id": "xu0oYUnk3xW8",
        "colab_type": "text"
      },
      "source": [
        "#### Create a 3x3 array with values ranging from 0 to 8 "
      ]
    },
    {
      "cell_type": "code",
      "metadata": {
        "id": "NO3z96de3xW9",
        "colab_type": "code",
        "colab": {},
        "outputId": "8e121220-041d-45a8-cb59-83d09c9430de"
      },
      "source": [
        "a = np.array([0,1,2,3,4,5,6,7,8])\n",
        "a.reshape(3,3)\n"
      ],
      "execution_count": 0,
      "outputs": [
        {
          "output_type": "execute_result",
          "data": {
            "text/plain": [
              "array([[0, 1, 2],\n",
              "       [3, 4, 5],\n",
              "       [6, 7, 8]])"
            ]
          },
          "metadata": {
            "tags": []
          },
          "execution_count": 20
        }
      ]
    },
    {
      "cell_type": "markdown",
      "metadata": {
        "id": "BIosYu8v3xXA",
        "colab_type": "text"
      },
      "source": [
        "#### Create an array of 25 random numbers between 0 and 1"
      ]
    },
    {
      "cell_type": "code",
      "metadata": {
        "id": "ZhMS1hOm3xXB",
        "colab_type": "code",
        "colab": {},
        "outputId": "7c782944-15e2-4c86-8c97-44b480b0a625"
      },
      "source": [
        "np.random.sample(25) *1"
      ],
      "execution_count": 0,
      "outputs": [
        {
          "output_type": "execute_result",
          "data": {
            "text/plain": [
              "array([0.4747079 , 0.12786758, 0.52523033, 0.22372279, 0.72894273,\n",
              "       0.11992174, 0.05089637, 0.14021239, 0.17503603, 0.94375881,\n",
              "       0.73789566, 0.19951687, 0.01713538, 0.18661925, 0.06499484,\n",
              "       0.08809836, 0.59667769, 0.18560157, 0.95438616, 0.40516222,\n",
              "       0.97602977, 0.77528226, 0.51125523, 0.51315617, 0.90069192])"
            ]
          },
          "metadata": {
            "tags": []
          },
          "execution_count": 27
        }
      ]
    },
    {
      "cell_type": "markdown",
      "metadata": {
        "id": "_IAwIjW03xXE",
        "colab_type": "text"
      },
      "source": [
        "#### Create an array of 40 linearly spaced points between 0 and 10:"
      ]
    },
    {
      "cell_type": "code",
      "metadata": {
        "id": "KnrZtFWw3xXF",
        "colab_type": "code",
        "colab": {},
        "outputId": "d7ce8646-2da9-4652-e03d-c83dd1ac2d71"
      },
      "source": [
        "np.linspace(0,10,40)"
      ],
      "execution_count": 0,
      "outputs": [
        {
          "output_type": "execute_result",
          "data": {
            "text/plain": [
              "array([ 0.        ,  0.25641026,  0.51282051,  0.76923077,  1.02564103,\n",
              "        1.28205128,  1.53846154,  1.79487179,  2.05128205,  2.30769231,\n",
              "        2.56410256,  2.82051282,  3.07692308,  3.33333333,  3.58974359,\n",
              "        3.84615385,  4.1025641 ,  4.35897436,  4.61538462,  4.87179487,\n",
              "        5.12820513,  5.38461538,  5.64102564,  5.8974359 ,  6.15384615,\n",
              "        6.41025641,  6.66666667,  6.92307692,  7.17948718,  7.43589744,\n",
              "        7.69230769,  7.94871795,  8.20512821,  8.46153846,  8.71794872,\n",
              "        8.97435897,  9.23076923,  9.48717949,  9.74358974, 10.        ])"
            ]
          },
          "metadata": {
            "tags": []
          },
          "execution_count": 109
        }
      ]
    },
    {
      "cell_type": "markdown",
      "metadata": {
        "id": "01bFjYN73xXJ",
        "colab_type": "text"
      },
      "source": [
        "## Indexing \n"
      ]
    },
    {
      "cell_type": "code",
      "metadata": {
        "id": "Bo0WzYa83xXK",
        "colab_type": "code",
        "colab": {},
        "outputId": "1138ab22-af48-49d3-934d-7114a6e70381"
      },
      "source": [
        "#You are given the following 2D array\n",
        "# -1 one means system figure out \n",
        "a = np.arange(1,25).reshape(4,-1)\n",
        "a"
      ],
      "execution_count": 0,
      "outputs": [
        {
          "output_type": "execute_result",
          "data": {
            "text/plain": [
              "array([[ 1,  2,  3,  4,  5,  6],\n",
              "       [ 7,  8,  9, 10, 11, 12],\n",
              "       [13, 14, 15, 16, 17, 18],\n",
              "       [19, 20, 21, 22, 23, 24]])"
            ]
          },
          "metadata": {
            "tags": []
          },
          "execution_count": 111
        }
      ]
    },
    {
      "cell_type": "code",
      "metadata": {
        "id": "LueQqg9D3xXO",
        "colab_type": "code",
        "colab": {},
        "outputId": "b80481ca-16b6-4a2f-c9f5-085836587bb4"
      },
      "source": [
        "# Use array indexing to select the subset that contains 9,10,11,12,15,16,17,18,21,22,23,24. \n",
        "# In other words, the 3 * 4 sub-matrix in the bottom right corner of your array\n",
        "# I have shown you the output -- be careful, if you run your code, it is going to \"wipe out\" my output\n",
        "# correct code a[1:4, 2:6]\n",
        "a2 = np.delete(np.delete(a,0,0), [0,1], 1)\n",
        "a2"
      ],
      "execution_count": 0,
      "outputs": [
        {
          "output_type": "execute_result",
          "data": {
            "text/plain": [
              "array([[ 9, 10, 11, 12],\n",
              "       [15, 16, 17, 18],\n",
              "       [21, 22, 23, 24]])"
            ]
          },
          "metadata": {
            "tags": []
          },
          "execution_count": 104
        }
      ]
    },
    {
      "cell_type": "code",
      "metadata": {
        "id": "Hdvsq8Zs3xXS",
        "colab_type": "code",
        "colab": {},
        "outputId": "e845dc78-ef8a-42f6-d4aa-aeec71bf3211"
      },
      "source": [
        "# Use array indexing  get the value 20, as my output shows\n",
        "a[3][1]"
      ],
      "execution_count": 0,
      "outputs": [
        {
          "output_type": "execute_result",
          "data": {
            "text/plain": [
              "20"
            ]
          },
          "metadata": {
            "tags": []
          },
          "execution_count": 105
        }
      ]
    },
    {
      "cell_type": "code",
      "metadata": {
        "id": "bsDliT7N3xXV",
        "colab_type": "code",
        "colab": {},
        "outputId": "f8b7baf7-5f82-4480-8e7e-236fc6400847"
      },
      "source": [
        "# Use array indexing  get the column 10, 16, 22, as my output shows\n",
        "a2[:,[1]]"
      ],
      "execution_count": 0,
      "outputs": [
        {
          "output_type": "execute_result",
          "data": {
            "text/plain": [
              "array([[10],\n",
              "       [16],\n",
              "       [22]])"
            ]
          },
          "metadata": {
            "tags": []
          },
          "execution_count": 106
        }
      ]
    },
    {
      "cell_type": "code",
      "metadata": {
        "id": "91L0kWY-3xXY",
        "colab_type": "code",
        "colab": {},
        "outputId": "e687e3f9-3f8a-4867-df3f-ebd550d05186"
      },
      "source": [
        "# Use array indexing  get the row [15,16,17] as my output shows\n",
        "a2[[1],:3]"
      ],
      "execution_count": 0,
      "outputs": [
        {
          "output_type": "execute_result",
          "data": {
            "text/plain": [
              "array([[15, 16, 17]])"
            ]
          },
          "metadata": {
            "tags": []
          },
          "execution_count": 107
        }
      ]
    },
    {
      "cell_type": "markdown",
      "metadata": {
        "id": "lAF44oDQ3xXb",
        "colab_type": "text"
      },
      "source": [
        "### Now the hard task!"
      ]
    },
    {
      "cell_type": "markdown",
      "metadata": {
        "id": "rj1mGl4K3xXb",
        "colab_type": "text"
      },
      "source": [
        "#### Write a function that gives the users four random integers between 1 and 10 and ask them to enter the square number of them. If the user answers all of them correctly, congratulate them. Otherwise, show them the right answer"
      ]
    },
    {
      "cell_type": "code",
      "metadata": {
        "id": "jmXTwsA73xXc",
        "colab_type": "code",
        "colab": {},
        "outputId": "9563e21a-3b69-48e3-a774-eb3f7504360a"
      },
      "source": [
        "# Step 0: Import numpy -- ALWAYS import all the libraries you need at the beginning!\n",
        "import numpy as np\n",
        "\n",
        "#Step 1: Function creation -- refer to the last lab for the syntax of function creation\n",
        "# does our function take parameters?\n",
        "# Create your function here:\n",
        "def hard_part():\n",
        "    \n",
        "#Step 2: Create an array of four random integers between 1 and 10 \n",
        "\n",
        "    a = np.random.randint(1,11,4)\n",
        "    print(a)\n",
        "    b = np.array([])\n",
        "    for i in range(4):\n",
        "        next = input('please enter the square of ' + str (a[i]) + ':')\n",
        "        b = np.append(b,int(next))\n",
        "#b=np.append(b,int(input()))\n",
        "    comparison = a**2 == b\n",
        "    if(comparison.all()):\n",
        "        print('congratulations!')\n",
        "    else:\n",
        "        print('Oops, better luck next time!')\n",
        "        print(a**2)\n",
        "    return()\n",
        "hard_part()\n",
        "\n",
        "#Step 3: Print your numbers\n",
        "\n",
        "\n",
        "#Step 4: Prompt the user to enter four numbers, ONE AT A TIME. Use a loop to store these four numbers in a new array\n",
        "#  HINT 1: We could take all four numbers in through one line, but to practice loop, let's do it the hard way\n",
        "#  HINT 2: You can start by creating an empty array -- np.array([]), then appending to it one at a time\n",
        "#  HINT 3: Remember, input() only returns STRINGS. You need to turn them into integers\n",
        "\n",
        "\n",
        "\n",
        "\n",
        "\n",
        "\n",
        "\n",
        "\n",
        "\n",
        "\n",
        "\n",
        "\n",
        "\n",
        "\n",
        "#Step 5: Now that you have the two arrays, you can compare them using array functions and decide whether the answers are correct\n",
        "#  HINT 4: To compare two arrays, you can use array1 == array2 -- however, you have to use a variable to hold the result\n",
        "#          The resulted array is an array of Boolean values. To quickly check whether it contains true value, you might want to\n",
        "#          use the all() or any() function...\n",
        "\n",
        "\n",
        "\n",
        "\n",
        "\n",
        "    "
      ],
      "execution_count": 0,
      "outputs": [
        {
          "output_type": "stream",
          "text": [
            "[3 8 2 4]\n"
          ],
          "name": "stdout"
        }
      ]
    },
    {
      "cell_type": "code",
      "metadata": {
        "id": "ibjjogFj3xXf",
        "colab_type": "code",
        "colab": {}
      },
      "source": [
        ""
      ],
      "execution_count": 0,
      "outputs": []
    }
  ]
}